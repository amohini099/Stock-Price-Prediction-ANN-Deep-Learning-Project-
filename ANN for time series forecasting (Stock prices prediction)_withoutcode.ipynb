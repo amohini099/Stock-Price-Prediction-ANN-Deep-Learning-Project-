{
 "cells": [
  {
   "cell_type": "markdown",
   "metadata": {
    "id": "7I2BxSOKnt5-"
   },
   "source": [
    "<center><h1><u>Assignment:9- ANN for time series forecasting (Stock prices prediction)</center></h1></u>\n",
    "\n",
    "Hello everyone!! A hearty welcome to the Assignment 9 of the time series module.\n",
    "\n",
    "![](https://encrypted-tbn0.gstatic.com/images?q=tbn:ANd9GcRDOxLqNucUK2MSvtuz6pNWalpZzQSzbtOSkDSmibEcxZgtVDAs_-AaBuCyt1aI09HZ-go&usqp=CAU)\n",
    "\n",
    "In this assignment you will be learning about ANN for time series and also implement a project on Stock prices prediction.\n",
    "\n",
    "<h2><u>Table of Contents:</h2></u>\n",
    "\n",
    "1. Artificial Neural Networks (ANN)<br>\n",
    "2. Stock prices prediction<br>"
   ]
  },
  {
   "cell_type": "markdown",
   "metadata": {
    "id": "ow01PmJFvaTN"
   },
   "source": [
    "<h2><u>Artificial Neural Networks (ANN)</h2></u>\n",
    "\n",
    "The term \"neural network\" refers to a set of algorithms that attempt to emulate the human brain by determining the relationship between pieces of data. It's employed in a variety of applications, including regression, classification, and image recognition, among others. The biological neural network processes data in parallel, but the artificial neural network processes data in series. Additionally, the former's processing is slower (in milliseconds), whilst the latter's processing is faster (in a nanosecond).\n",
    "\n",
    "![](https://miro.medium.com/max/1838/1*eBMwpBBboAXgqsawwOKkPw.png)\n",
    "\n",
    "* <h5><u>Architecture Of ANN</h5></u>\n",
    "\n",
    "A neural network includes several layers, each of which performs a specialised job. As the model's complexity grows, the number of layers grows as well, which is why it's called a multi-layer perceptron.\n",
    "\n",
    "A neural network in its purest form includes three layers: an input layer, a hidden layer, and an output layer. The input layer receives the input signals and passes them on to the next layer, with the output layer delivering the final prediction. These neural networks, like machine learning methods, must be taught with some training data before being used to solve a specific problem.\n",
    "\n",
    "![](https://www.researchgate.net/profile/Facundo-Bre/publication/321259051/figure/fig1/AS:614329250496529@1523478915726/Artificial-neural-network-architecture-ANN-i-h-1-h-2-h-n-o.png)\n",
    "\n",
    "* <h5><u>Working Of ANN</h5></u>\n",
    "\n",
    "Information is first fed into the input layer, which then passes it on to the hidden layers, and the interconnection between these two layers assigns weights to each input at random at first. The weighted total, which is a combination of weights and bias, is then transmitted through the activation function after bias is added to each input neuron. The Activation Function is in charge of deciding which node to fire for feature extraction and then calculating the output. Foreward Propagation is the name given to this entire process. After comparing the output model to the original output and determining the error, weights are adjusted in backward propagation to lower the error, and this process is repeated for a set number of epochs (iteration). Finally, the model weights are adjusted, and the prediction process is completed.\n",
    "\n",
    "![](https://editor.analyticsvidhya.com/uploads/708832021-07-19.png)\n",
    "\n",
    "You can now see the detailed perspective of each neuron in the image above. Here, each neuron has some weights (w1, w2, w3) and biases, and computations are done as follows: combination = bias + weights * input (F = w1*x1 + w2*x2 + w3*x3), and finally activation function is applied output = activation(combination). In the above picture, activation is sigmoid represented by 1/(1 + e-F). Other activation functions include ReLU, Leaky ReLU, tanh, and a slew of others.\n"
   ]
  },
  {
   "cell_type": "code",
   "execution_count": null,
   "metadata": {
    "colab": {
     "base_uri": "https://localhost:8080/",
     "height": 421
    },
    "executionInfo": {
     "elapsed": 805,
     "status": "ok",
     "timestamp": 1642647180092,
     "user": {
      "displayName": "Simran Surve",
      "photoUrl": "https://lh3.googleusercontent.com/a-/AOh14Gik7iyGSKoZ5so9XipsZPApGM6kN-LWjBQUkZ8W9w=s64",
      "userId": "08759634073497249150"
     },
     "user_tz": 480
    },
    "id": "jYzR9gbmZowp",
    "outputId": "12ac3e16-88a2-441c-e74e-34f4627fed91"
   },
   "outputs": [],
   "source": [
    "###Refer Video\n",
    "from IPython.display import YouTubeVideo\n",
    "YouTubeVideo('ER2It2mIagI', width=700, height=400)"
   ]
  },
  {
   "cell_type": "markdown",
   "metadata": {
    "id": "8_rTS_w8FldL"
   },
   "source": [
    "* <h5><u>Activation functions</h5></u>\n",
    "\n",
    "The activation function calculates a weighted total and then adds bias to it to determine whether a neuron should be activated or not. The activation function's goal is to introduce non-linearity into a neuron's output.\n",
    "\n",
    "![](https://www.researchgate.net/profile/Rahul-Jayawardana/publication/350567223/figure/fig3/AS:1007855343767554@1617302847631/Fig-3-The-basic-activation-functions-of-the-neural-networksNeural-Networks.jpg)\n",
    "\n",
    "### Refer the given video"
   ]
  },
  {
   "cell_type": "code",
   "execution_count": null,
   "metadata": {
    "colab": {
     "base_uri": "https://localhost:8080/",
     "height": 421
    },
    "executionInfo": {
     "elapsed": 656,
     "status": "ok",
     "timestamp": 1642647312822,
     "user": {
      "displayName": "Simran Surve",
      "photoUrl": "https://lh3.googleusercontent.com/a-/AOh14Gik7iyGSKoZ5so9XipsZPApGM6kN-LWjBQUkZ8W9w=s64",
      "userId": "08759634073497249150"
     },
     "user_tz": 480
    },
    "id": "T3BS-7FJaKe2",
    "outputId": "efd1c0bd-1af9-44c5-a350-77ce3f152048"
   },
   "outputs": [],
   "source": [
    "YouTubeVideo('icZItWxw7AI', width=700, height=400)"
   ]
  },
  {
   "cell_type": "markdown",
   "metadata": {
    "id": "JA9JaLM10Daq"
   },
   "source": [
    "<h2><u>Stock prices prediction</h2></u>\n",
    "\n",
    "A stock market is a public market where you may purchase and sell shares in firms that are publicly traded. The stocks, also known as equities, indicate the company's ownership. Machine learning-based stock price prediction assists you in determining the future worth of a company's stock and other financial assets traded on an exchange.\n",
    "\n",
    "**Watch the given video, it implements stock price prediction using LSTM which is a type of artificial neural networks. We will looking into LSTM futher, for now focus on the procedure of stock price prediction.**\n"
   ]
  },
  {
   "cell_type": "code",
   "execution_count": null,
   "metadata": {
    "colab": {
     "base_uri": "https://localhost:8080/",
     "height": 421
    },
    "executionInfo": {
     "elapsed": 859,
     "status": "ok",
     "timestamp": 1642647640845,
     "user": {
      "displayName": "Simran Surve",
      "photoUrl": "https://lh3.googleusercontent.com/a-/AOh14Gik7iyGSKoZ5so9XipsZPApGM6kN-LWjBQUkZ8W9w=s64",
      "userId": "08759634073497249150"
     },
     "user_tz": 480
    },
    "id": "SmSoauT2bWcv",
    "outputId": "89204298-f5e8-4012-f6f5-03a785c118ae"
   },
   "outputs": [],
   "source": [
    "YouTubeVideo('H6du_pfuznE', width=700, height=400)"
   ]
  },
  {
   "cell_type": "markdown",
   "metadata": {
    "id": "wHX77BfN0wFc"
   },
   "source": [
    "Lets start by importing the necessary libraries.\n",
    "* pandas: for storing and analyzing data\n",
    "* matplotlib: for plotting graphs and visualizations\n",
    "* numpy: for array and matrix operations\n",
    "* datetime: to manipulate datetime objects\n",
    "* sqrt from math: to take square root of a value\n",
    "* Sequential: groups a linear stack of layers into a tf.keras.Model.\n",
    "* Dense layer: regular deeply connected neural network layer\n",
    "* Dropout layer: implements dropout regularization\n",
    "* Activation layer: Applies an activation function to an output"
   ]
  },
  {
   "cell_type": "code",
   "execution_count": 1,
   "metadata": {
    "colab": {
     "base_uri": "https://localhost:8080/"
    },
    "executionInfo": {
     "elapsed": 3065,
     "status": "ok",
     "timestamp": 1642627638296,
     "user": {
      "displayName": "Simran Surve",
      "photoUrl": "https://lh3.googleusercontent.com/a-/AOh14Gik7iyGSKoZ5so9XipsZPApGM6kN-LWjBQUkZ8W9w=s64",
      "userId": "08759634073497249150"
     },
     "user_tz": 480
    },
    "id": "b4GjweyfS9ri",
    "outputId": "382679d3-082e-4c05-d7f3-16581e1a4c64"
   },
   "outputs": [],
   "source": [
    "import numpy as np\n",
    "\n",
    "import matplotlib.pyplot as plt \n",
    "\n",
    "import pandas as pd\n",
    "\n",
    "\n",
    "import math \n",
    "\n",
    "import tensorflow.keras\n",
    "from keras.models import Sequential\n",
    "from keras.layers import Dense\n",
    "from keras.layers import Dropout\n",
    "from keras.layers import Activation\n"
   ]
  },
  {
   "cell_type": "markdown",
   "metadata": {
    "id": "Zn0CHXSYzsM3"
   },
   "source": [
    "The dataset used in the project is present in the google drive. So the drive has to be first mounted to use the dataset. For that use the drive library from google.colab and then mount the drive using mount function."
   ]
  },
  {
   "cell_type": "code",
   "execution_count": 2,
   "metadata": {
    "colab": {
     "base_uri": "https://localhost:8080/"
    },
    "executionInfo": {
     "elapsed": 27208,
     "status": "ok",
     "timestamp": 1642627665495,
     "user": {
      "displayName": "Simran Surve",
      "photoUrl": "https://lh3.googleusercontent.com/a-/AOh14Gik7iyGSKoZ5so9XipsZPApGM6kN-LWjBQUkZ8W9w=s64",
      "userId": "08759634073497249150"
     },
     "user_tz": 480
    },
    "id": "ISSCfTkfzxXT",
    "outputId": "b5ec5774-d8e5-4242-dbe6-41b26d8aed64"
   },
   "outputs": [],
   "source": [
    "# import drive from google.colab\n",
    "\n",
    "# mount the drive\n"
   ]
  },
  {
   "cell_type": "markdown",
   "metadata": {
    "id": "pCw9jBCrz2Mo"
   },
   "source": [
    "Start by reading and loading the data. Download the dataset from the given link and upload it in your drive. https://drive.google.com/file/d/139dzxtxWEoU6U3UBVStqwH9Z9GTooiJ0/view?usp=sharing\n",
    "\n",
    "Create a function to read the stock data. Get the column names of dataset in another variable. The code gets the stock data from a csv file. The code creates a DataFrame with all of this information in it. Then split the date into year, month, and day based on '-' character. Also divide the volume by 10000 to get an average value for each day of trading. \n"
   ]
  },
  {
   "cell_type": "code",
   "execution_count": 5,
   "metadata": {
    "id": "5HxZ4BJcS_o6"
   },
   "outputs": [],
   "source": [
    "#create the get_stcok_data function\n",
    "def get_stcok_data():\n",
    "    #get the dataset path\n",
    "    df = pd.read_csv('EDELWEISSNS - EDELWEISSNS.csv')\n",
    "    #get column names\n",
    "    df.columns\n",
    "    #read the dataset\n",
    "    df.head()\n",
    "    #copy the dataset into another variable\n",
    "    series = df.copy()\n",
    "    #split the date column based on '-' character\n",
    "    series[['Year', 'Month', 'Day']] = series['Date'].str.split('-', expand=True)\n",
    "    #load the splitted dates into new columns as year,month,day\n",
    "\n",
    "    #divide the volumne column by 10000\n",
    "    series['Volumn'] = series['Volumn'] / 10000\n",
    "    #return the new dataset\n",
    "    return series"
   ]
  },
  {
   "cell_type": "code",
   "execution_count": 6,
   "metadata": {},
   "outputs": [
    {
     "data": {
      "text/html": [
       "<div>\n",
       "<style scoped>\n",
       "    .dataframe tbody tr th:only-of-type {\n",
       "        vertical-align: middle;\n",
       "    }\n",
       "\n",
       "    .dataframe tbody tr th {\n",
       "        vertical-align: top;\n",
       "    }\n",
       "\n",
       "    .dataframe thead th {\n",
       "        text-align: right;\n",
       "    }\n",
       "</style>\n",
       "<table border=\"1\" class=\"dataframe\">\n",
       "  <thead>\n",
       "    <tr style=\"text-align: right;\">\n",
       "      <th></th>\n",
       "      <th>Date</th>\n",
       "      <th>Open</th>\n",
       "      <th>High</th>\n",
       "      <th>Low</th>\n",
       "      <th>Close</th>\n",
       "      <th>Volumn</th>\n",
       "      <th>Adj Close</th>\n",
       "      <th>Year</th>\n",
       "      <th>Month</th>\n",
       "      <th>Day</th>\n",
       "    </tr>\n",
       "  </thead>\n",
       "  <tbody>\n",
       "    <tr>\n",
       "      <th>0</th>\n",
       "      <td>2008-10-03</td>\n",
       "      <td>41.299999</td>\n",
       "      <td>41.685001</td>\n",
       "      <td>39.400002</td>\n",
       "      <td>40.525002</td>\n",
       "      <td>0.002930</td>\n",
       "      <td>185090.0</td>\n",
       "      <td>2008</td>\n",
       "      <td>10</td>\n",
       "      <td>03</td>\n",
       "    </tr>\n",
       "    <tr>\n",
       "      <th>1</th>\n",
       "      <td>2008-10-06</td>\n",
       "      <td>39.700001</td>\n",
       "      <td>40.799999</td>\n",
       "      <td>37.200001</td>\n",
       "      <td>39.564999</td>\n",
       "      <td>0.002860</td>\n",
       "      <td>204340.0</td>\n",
       "      <td>2008</td>\n",
       "      <td>10</td>\n",
       "      <td>06</td>\n",
       "    </tr>\n",
       "    <tr>\n",
       "      <th>2</th>\n",
       "      <td>2008-10-07</td>\n",
       "      <td>40.000000</td>\n",
       "      <td>40.599998</td>\n",
       "      <td>36.000000</td>\n",
       "      <td>36.119999</td>\n",
       "      <td>0.002611</td>\n",
       "      <td>128970.0</td>\n",
       "      <td>2008</td>\n",
       "      <td>10</td>\n",
       "      <td>07</td>\n",
       "    </tr>\n",
       "    <tr>\n",
       "      <th>3</th>\n",
       "      <td>2008-10-08</td>\n",
       "      <td>35.000000</td>\n",
       "      <td>44.400002</td>\n",
       "      <td>34.500000</td>\n",
       "      <td>40.880001</td>\n",
       "      <td>0.002955</td>\n",
       "      <td>700490.0</td>\n",
       "      <td>2008</td>\n",
       "      <td>10</td>\n",
       "      <td>08</td>\n",
       "    </tr>\n",
       "    <tr>\n",
       "      <th>4</th>\n",
       "      <td>2008-10-10</td>\n",
       "      <td>40.400002</td>\n",
       "      <td>40.400002</td>\n",
       "      <td>35.299999</td>\n",
       "      <td>37.910000</td>\n",
       "      <td>0.002741</td>\n",
       "      <td>367380.0</td>\n",
       "      <td>2008</td>\n",
       "      <td>10</td>\n",
       "      <td>10</td>\n",
       "    </tr>\n",
       "    <tr>\n",
       "      <th>...</th>\n",
       "      <td>...</td>\n",
       "      <td>...</td>\n",
       "      <td>...</td>\n",
       "      <td>...</td>\n",
       "      <td>...</td>\n",
       "      <td>...</td>\n",
       "      <td>...</td>\n",
       "      <td>...</td>\n",
       "      <td>...</td>\n",
       "      <td>...</td>\n",
       "    </tr>\n",
       "    <tr>\n",
       "      <th>2462</th>\n",
       "      <td>2018-09-25</td>\n",
       "      <td>218.000000</td>\n",
       "      <td>221.000000</td>\n",
       "      <td>208.500000</td>\n",
       "      <td>218.550003</td>\n",
       "      <td>0.021855</td>\n",
       "      <td>5014613.0</td>\n",
       "      <td>2018</td>\n",
       "      <td>09</td>\n",
       "      <td>25</td>\n",
       "    </tr>\n",
       "    <tr>\n",
       "      <th>2463</th>\n",
       "      <td>2018-09-26</td>\n",
       "      <td>221.500000</td>\n",
       "      <td>221.500000</td>\n",
       "      <td>210.100006</td>\n",
       "      <td>212.149994</td>\n",
       "      <td>0.021215</td>\n",
       "      <td>3303414.0</td>\n",
       "      <td>2018</td>\n",
       "      <td>09</td>\n",
       "      <td>26</td>\n",
       "    </tr>\n",
       "    <tr>\n",
       "      <th>2464</th>\n",
       "      <td>2018-09-27</td>\n",
       "      <td>213.199997</td>\n",
       "      <td>214.449997</td>\n",
       "      <td>185.199997</td>\n",
       "      <td>189.399994</td>\n",
       "      <td>0.018940</td>\n",
       "      <td>9492583.0</td>\n",
       "      <td>2018</td>\n",
       "      <td>09</td>\n",
       "      <td>27</td>\n",
       "    </tr>\n",
       "    <tr>\n",
       "      <th>2465</th>\n",
       "      <td>2018-09-28</td>\n",
       "      <td>191.399994</td>\n",
       "      <td>198.850006</td>\n",
       "      <td>181.000000</td>\n",
       "      <td>189.500000</td>\n",
       "      <td>0.018950</td>\n",
       "      <td>6458894.0</td>\n",
       "      <td>2018</td>\n",
       "      <td>09</td>\n",
       "      <td>28</td>\n",
       "    </tr>\n",
       "    <tr>\n",
       "      <th>2466</th>\n",
       "      <td>2018-10-01</td>\n",
       "      <td>189.000000</td>\n",
       "      <td>190.899994</td>\n",
       "      <td>169.050003</td>\n",
       "      <td>187.000000</td>\n",
       "      <td>0.018700</td>\n",
       "      <td>6270237.0</td>\n",
       "      <td>2018</td>\n",
       "      <td>10</td>\n",
       "      <td>01</td>\n",
       "    </tr>\n",
       "  </tbody>\n",
       "</table>\n",
       "<p>2467 rows × 10 columns</p>\n",
       "</div>"
      ],
      "text/plain": [
       "            Date        Open        High         Low       Close    Volumn  \\\n",
       "0     2008-10-03   41.299999   41.685001   39.400002   40.525002  0.002930   \n",
       "1     2008-10-06   39.700001   40.799999   37.200001   39.564999  0.002860   \n",
       "2     2008-10-07   40.000000   40.599998   36.000000   36.119999  0.002611   \n",
       "3     2008-10-08   35.000000   44.400002   34.500000   40.880001  0.002955   \n",
       "4     2008-10-10   40.400002   40.400002   35.299999   37.910000  0.002741   \n",
       "...          ...         ...         ...         ...         ...       ...   \n",
       "2462  2018-09-25  218.000000  221.000000  208.500000  218.550003  0.021855   \n",
       "2463  2018-09-26  221.500000  221.500000  210.100006  212.149994  0.021215   \n",
       "2464  2018-09-27  213.199997  214.449997  185.199997  189.399994  0.018940   \n",
       "2465  2018-09-28  191.399994  198.850006  181.000000  189.500000  0.018950   \n",
       "2466  2018-10-01  189.000000  190.899994  169.050003  187.000000  0.018700   \n",
       "\n",
       "      Adj Close  Year Month Day  \n",
       "0      185090.0  2008    10  03  \n",
       "1      204340.0  2008    10  06  \n",
       "2      128970.0  2008    10  07  \n",
       "3      700490.0  2008    10  08  \n",
       "4      367380.0  2008    10  10  \n",
       "...         ...   ...   ...  ..  \n",
       "2462  5014613.0  2018    09  25  \n",
       "2463  3303414.0  2018    09  26  \n",
       "2464  9492583.0  2018    09  27  \n",
       "2465  6458894.0  2018    09  28  \n",
       "2466  6270237.0  2018    10  01  \n",
       "\n",
       "[2467 rows x 10 columns]"
      ]
     },
     "execution_count": 6,
     "metadata": {},
     "output_type": "execute_result"
    }
   ],
   "source": [
    "get_stcok_data()"
   ]
  },
  {
   "cell_type": "markdown",
   "metadata": {
    "id": "p38Mcar7744z"
   },
   "source": [
    "Now apply the above created function and print the first five rows."
   ]
  },
  {
   "cell_type": "code",
   "execution_count": 7,
   "metadata": {
    "colab": {
     "base_uri": "https://localhost:8080/",
     "height": 241
    },
    "executionInfo": {
     "elapsed": 575,
     "status": "ok",
     "timestamp": 1642627666802,
     "user": {
      "displayName": "Simran Surve",
      "photoUrl": "https://lh3.googleusercontent.com/a-/AOh14Gik7iyGSKoZ5so9XipsZPApGM6kN-LWjBQUkZ8W9w=s64",
      "userId": "08759634073497249150"
     },
     "user_tz": 480
    },
    "id": "HIo6mjzmTFoP",
    "outputId": "c8056282-194f-41b6-e54d-242736c2e002"
   },
   "outputs": [
    {
     "name": "stdout",
     "output_type": "stream",
     "text": [
      "         Date       Open       High        Low      Close    Volumn  \\\n",
      "0  2008-10-03  41.299999  41.685001  39.400002  40.525002  0.002930   \n",
      "1  2008-10-06  39.700001  40.799999  37.200001  39.564999  0.002860   \n",
      "2  2008-10-07  40.000000  40.599998  36.000000  36.119999  0.002611   \n",
      "3  2008-10-08  35.000000  44.400002  34.500000  40.880001  0.002955   \n",
      "4  2008-10-10  40.400002  40.400002  35.299999  37.910000  0.002741   \n",
      "\n",
      "   Adj Close  Year Month Day  \n",
      "0   185090.0  2008    10  03  \n",
      "1   204340.0  2008    10  06  \n",
      "2   128970.0  2008    10  07  \n",
      "3   700490.0  2008    10  08  \n",
      "4   367380.0  2008    10  10  \n"
     ]
    }
   ],
   "source": [
    "#get_stock_data\n",
    "series = get_stcok_data()\n",
    "#print first 5 rows of dataset\n",
    "print(series.head())"
   ]
  },
  {
   "cell_type": "markdown",
   "metadata": {
    "id": "4ifMmsmz8CYP"
   },
   "source": [
    "Hence the dataset now contains 10 columns, 3 of which are year, month, day and others are Date,Open,High,Low,Close,Volume,Adj Close.\n",
    "\n",
    "* Open: The price of the stock when the market opens in the morning\n",
    "* Close: The price of the stock when the market closed in the evening\n",
    "* High: Highest price the stock reached during that day\n",
    "* Low: Lowest price the stock is traded on that day\n",
    "* Volume: The total amount of stocks traded on that day\n",
    "\n",
    "Next task to drop the unnecessary columns which are date,low, adj close, year,month and day."
   ]
  },
  {
   "cell_type": "code",
   "execution_count": 8,
   "metadata": {
    "colab": {
     "base_uri": "https://localhost:8080/",
     "height": 206
    },
    "executionInfo": {
     "elapsed": 22,
     "status": "ok",
     "timestamp": 1642627666805,
     "user": {
      "displayName": "Simran Surve",
      "photoUrl": "https://lh3.googleusercontent.com/a-/AOh14Gik7iyGSKoZ5so9XipsZPApGM6kN-LWjBQUkZ8W9w=s64",
      "userId": "08759634073497249150"
     },
     "user_tz": 480
    },
    "id": "3pUp2dXhTK1r",
    "outputId": "12eab0aa-70a8-4bc2-e0e5-b09bf5854c26"
   },
   "outputs": [
    {
     "data": {
      "text/html": [
       "<div>\n",
       "<style scoped>\n",
       "    .dataframe tbody tr th:only-of-type {\n",
       "        vertical-align: middle;\n",
       "    }\n",
       "\n",
       "    .dataframe tbody tr th {\n",
       "        vertical-align: top;\n",
       "    }\n",
       "\n",
       "    .dataframe thead th {\n",
       "        text-align: right;\n",
       "    }\n",
       "</style>\n",
       "<table border=\"1\" class=\"dataframe\">\n",
       "  <thead>\n",
       "    <tr style=\"text-align: right;\">\n",
       "      <th></th>\n",
       "      <th>Open</th>\n",
       "      <th>High</th>\n",
       "      <th>Close</th>\n",
       "      <th>Volumn</th>\n",
       "    </tr>\n",
       "  </thead>\n",
       "  <tbody>\n",
       "    <tr>\n",
       "      <th>0</th>\n",
       "      <td>41.299999</td>\n",
       "      <td>41.685001</td>\n",
       "      <td>40.525002</td>\n",
       "      <td>0.002930</td>\n",
       "    </tr>\n",
       "    <tr>\n",
       "      <th>1</th>\n",
       "      <td>39.700001</td>\n",
       "      <td>40.799999</td>\n",
       "      <td>39.564999</td>\n",
       "      <td>0.002860</td>\n",
       "    </tr>\n",
       "    <tr>\n",
       "      <th>2</th>\n",
       "      <td>40.000000</td>\n",
       "      <td>40.599998</td>\n",
       "      <td>36.119999</td>\n",
       "      <td>0.002611</td>\n",
       "    </tr>\n",
       "    <tr>\n",
       "      <th>3</th>\n",
       "      <td>35.000000</td>\n",
       "      <td>44.400002</td>\n",
       "      <td>40.880001</td>\n",
       "      <td>0.002955</td>\n",
       "    </tr>\n",
       "    <tr>\n",
       "      <th>4</th>\n",
       "      <td>40.400002</td>\n",
       "      <td>40.400002</td>\n",
       "      <td>37.910000</td>\n",
       "      <td>0.002741</td>\n",
       "    </tr>\n",
       "  </tbody>\n",
       "</table>\n",
       "</div>"
      ],
      "text/plain": [
       "        Open       High      Close    Volumn\n",
       "0  41.299999  41.685001  40.525002  0.002930\n",
       "1  39.700001  40.799999  39.564999  0.002860\n",
       "2  40.000000  40.599998  36.119999  0.002611\n",
       "3  35.000000  44.400002  40.880001  0.002955\n",
       "4  40.400002  40.400002  37.910000  0.002741"
      ]
     },
     "execution_count": 8,
     "metadata": {},
     "output_type": "execute_result"
    }
   ],
   "source": [
    "#drop the columns\n",
    "series = series.drop(['Date','Low', 'Adj Close', 'Year', 'Month', 'Day'], axis = 1)\n",
    "#partial view of dataset\n",
    "series.head()"
   ]
  },
  {
   "cell_type": "markdown",
   "metadata": {
    "id": "3x_zYUiI_P5y"
   },
   "source": [
    "Next normalize the data by dividing each column by 100 but multiply the volume by 100 (to make the data on equal scale). Create a new list named nan_value_index, in which you need to collect indexes having nan values. Next for each column, store the nan values in a new variable. Then iterate through all values in the columns and substitute the '1' value with 0. Append the index having this 1 value in the nan_value_index list."
   ]
  },
  {
   "cell_type": "code",
   "execution_count": 11,
   "metadata": {
    "colab": {
     "base_uri": "https://localhost:8080/"
    },
    "executionInfo": {
     "elapsed": 22,
     "status": "ok",
     "timestamp": 1642627666807,
     "user": {
      "displayName": "Simran Surve",
      "photoUrl": "https://lh3.googleusercontent.com/a-/AOh14Gik7iyGSKoZ5so9XipsZPApGM6kN-LWjBQUkZ8W9w=s64",
      "userId": "08759634073497249150"
     },
     "user_tz": 480
    },
    "id": "s9m0nwuvTYjW",
    "outputId": "6b604d44-f2de-452a-a96f-7d3194dcaa68"
   },
   "outputs": [
    {
     "name": "stdout",
     "output_type": "stream",
     "text": [
      "          Open      High    Close    Volumn\n",
      "0     0.000041  0.000042  0.40525  0.292964\n",
      "1     0.000040  0.000041  0.39565  0.286023\n",
      "2     0.000040  0.000041  0.36120  0.261119\n",
      "3     0.000035  0.000044  0.40880  0.295530\n",
      "4     0.000040  0.000040  0.37910  0.274059\n",
      "...        ...       ...      ...       ...\n",
      "2462  0.000218  0.000221  2.18550  2.185500\n",
      "2463  0.000221  0.000221  2.12150  2.121500\n",
      "2464  0.000213  0.000214  1.89400  1.894000\n",
      "2465  0.000191  0.000199  1.89500  1.895000\n",
      "2466  0.000189  0.000191  1.87000  1.870000\n",
      "\n",
      "[2467 rows x 4 columns]\n"
     ]
    }
   ],
   "source": [
    "#divide 'open' by 100\n",
    "series['Open'] = series['Open']/100\n",
    "#divide 'high' by 100\n",
    "series['High'] = series['High']/100\n",
    "#multiply 'volume' by 100\n",
    "series['Volumn'] = series['Volumn']* 100\n",
    "#divide 'clode' by 100\n",
    "series['Close'] = series['Close'] / 100\n",
    "#print df\n",
    "print(series)\n",
    "#create new list\n",
    "nan_indices = []\n",
    "#get nan values of 'high' column\n",
    "high_nan_indices = series[series['High'].isnull()].index\n",
    "#iterate through 'high'\n",
    "for i in high_nan_indices:\n",
    "    if series['High'][i] == 1:\n",
    "    #check if the value is '1'\n",
    "\n",
    "        #append the i index\n",
    "        nan_indices.append(i)\n",
    "        #substitue with '0'\n",
    "        series['Volume'][i] = 0\n",
    "#get nan values of 'open' column\n",
    "open_nan_indices = series[series['Open'].isnull()].index\n",
    "#iterate through 'open'\n",
    "for i in open_nan_indices:\n",
    "  #check if the value is '1'\n",
    "    if series['Open'][i] == 1:\n",
    "      #append the i index\n",
    "        nan_indices.append(i)\n",
    "        #substitue with '0'\n",
    "        series['Open'][i] = 0\n",
    "#get nan values of 'volume' column\n",
    "volume_nan_indices = series[series['Volumn'].isnull()].index\n",
    "\n",
    "#iterate through 'volume'\n",
    "for i in volume_nan_indices:\n",
    "  #check if the value is '1'\n",
    "    if series['Volumn'][i] == 1:\n",
    "        #append the i index\n",
    "        nan_indices.append(i)\n",
    "        #substitue with '0'\n",
    "        series['Volumn'][i] = 0\n",
    "#get nan values of 'close' column\n",
    "close_nan_indices = series[series['Close'].isnull()].index\n",
    "#iterate through 'close'\n",
    "for i in close_nan_indices:\n",
    "  #check if the value is '1'\n",
    "    if series['Close'][i] == 1:\n",
    "        #append the i index\n",
    "        nan_indices.append(i)\n",
    "        #substitue with '0'\n",
    "        series['Close'][i] = 0"
   ]
  },
  {
   "cell_type": "code",
   "execution_count": 12,
   "metadata": {},
   "outputs": [],
   "source": [
    "series= series.dropna()"
   ]
  },
  {
   "cell_type": "code",
   "execution_count": 13,
   "metadata": {},
   "outputs": [
    {
     "data": {
      "text/plain": [
       "Open      0\n",
       "High      0\n",
       "Close     0\n",
       "Volumn    0\n",
       "dtype: int64"
      ]
     },
     "execution_count": 13,
     "metadata": {},
     "output_type": "execute_result"
    }
   ],
   "source": [
    "series.isnull().sum()"
   ]
  },
  {
   "cell_type": "markdown",
   "metadata": {
    "id": "oIv3nae-GtJp"
   },
   "source": [
    "Hence now the data has been normalized in the range 0 to 10. And also NAN values have been removed.\n",
    "\n",
    "Now we need to divide the data into training and testing data. For that first seperate the dependent and independent variables. ['High','Open', 'Volume'] are independent variables and 'Close' is the dependent variable as the closing value of the stock has to be predicted.Choose a factor on which the division depends. Here we set the factor to 0.80 as we need 80% of the data for training and rest data for testing. Get the total training size by multiplying the selected factor with length of the training data. Divide the data into testing and training data based on this total training size."
   ]
  },
  {
   "cell_type": "code",
   "execution_count": 15,
   "metadata": {
    "id": "rD3e4Y6rTbyX"
   },
   "outputs": [],
   "source": [
    "#get independent variables in X\n",
    "X = series[['Open', 'High', 'Volumn']]\n",
    "#get dependent variable in Y\n",
    "Y = series['Close']\n",
    "#set factor to 0.80\n",
    "split_factor = 0.80\n",
    "#get length of X\n",
    "n = len(X)\n",
    "#get total training size by multiplying factor and length of X\n",
    "total_for_train = int(split_factor * n)\n",
    "#X_train = X[:total_for_train]\n",
    "X_train = X[:total_for_train]\n",
    "#get Y_train\n",
    "Y_train = Y[:total_for_train]\n",
    "#get X_test\n",
    "X_test = X[total_for_train:]\n",
    "#get Y_test\n",
    "Y_test = Y[total_for_train:]"
   ]
  },
  {
   "cell_type": "markdown",
   "metadata": {
    "id": "jfLJCERAJ3RV"
   },
   "source": [
    "Now check the shapes of the training and testing data using the shape method."
   ]
  },
  {
   "cell_type": "code",
   "execution_count": 16,
   "metadata": {
    "colab": {
     "base_uri": "https://localhost:8080/"
    },
    "executionInfo": {
     "elapsed": 24,
     "status": "ok",
     "timestamp": 1642627666812,
     "user": {
      "displayName": "Simran Surve",
      "photoUrl": "https://lh3.googleusercontent.com/a-/AOh14Gik7iyGSKoZ5so9XipsZPApGM6kN-LWjBQUkZ8W9w=s64",
      "userId": "08759634073497249150"
     },
     "user_tz": 480
    },
    "id": "WZwv9J65Teeg",
    "outputId": "893bf0c8-eb7c-47c1-a04d-88a3b2898669"
   },
   "outputs": [
    {
     "name": "stdout",
     "output_type": "stream",
     "text": [
      "(1967, 3)\n",
      "(1967,)\n",
      "(492, 3)\n",
      "(492,)\n"
     ]
    }
   ],
   "source": [
    "#print shape of X-train\n",
    "print(X_train.shape)\n",
    "#print shape of Y-train\n",
    "print(Y_train.shape)\n",
    "#print shape of X-Test\n",
    "print(X_test.shape)\n",
    "#print shape of Y-test\n",
    "print(Y_test.shape)\n"
   ]
  },
  {
   "cell_type": "markdown",
   "metadata": {
    "id": "hDpfbhpDKQas"
   },
   "source": [
    "Now start by creating a Sequential object. This is the classifier that will be used to make predictions on the training data. Then add two Dense objects, one with 32 units and another with 10 units. These are both ReLU activations.Next, add a Dense object with 1 unit and linear activation followed by compiling the model using adam optimizer and mean squared error loss function for metrics.Finally, fit the model on X_train (the training set) and Y_train (the target variable) keeping 0.05 amount of data for validation and 10 epochs."
   ]
  },
  {
   "cell_type": "code",
   "execution_count": 17,
   "metadata": {},
   "outputs": [
    {
     "data": {
      "text/plain": [
       "Open      0\n",
       "High      0\n",
       "Volumn    0\n",
       "dtype: int64"
      ]
     },
     "execution_count": 17,
     "metadata": {},
     "output_type": "execute_result"
    }
   ],
   "source": [
    "X_train.isnull().sum()"
   ]
  },
  {
   "cell_type": "code",
   "execution_count": 18,
   "metadata": {
    "colab": {
     "base_uri": "https://localhost:8080/"
    },
    "executionInfo": {
     "elapsed": 1929,
     "status": "ok",
     "timestamp": 1642627668720,
     "user": {
      "displayName": "Simran Surve",
      "photoUrl": "https://lh3.googleusercontent.com/a-/AOh14Gik7iyGSKoZ5so9XipsZPApGM6kN-LWjBQUkZ8W9w=s64",
      "userId": "08759634073497249150"
     },
     "user_tz": 480
    },
    "id": "SaPzTRmtTgPS",
    "outputId": "29ad4dc0-237a-4cf2-f5fe-7d0f38eababd"
   },
   "outputs": [
    {
     "name": "stdout",
     "output_type": "stream",
     "text": [
      "Epoch 1/10\n",
      "15/15 [==============================] - 1s 12ms/step - loss: 0.2033 - val_loss: 0.7505\n",
      "Epoch 2/10\n",
      "15/15 [==============================] - 0s 2ms/step - loss: 0.0859 - val_loss: 0.3857\n",
      "Epoch 3/10\n",
      "15/15 [==============================] - 0s 3ms/step - loss: 0.0298 - val_loss: 0.1907\n",
      "Epoch 4/10\n",
      "15/15 [==============================] - 0s 2ms/step - loss: 0.0097 - val_loss: 0.1000\n",
      "Epoch 5/10\n",
      "15/15 [==============================] - 0s 3ms/step - loss: 0.0042 - val_loss: 0.0651\n",
      "Epoch 6/10\n",
      "15/15 [==============================] - 0s 3ms/step - loss: 0.0030 - val_loss: 0.0525\n",
      "Epoch 7/10\n",
      "15/15 [==============================] - 0s 2ms/step - loss: 0.0023 - val_loss: 0.0468\n",
      "Epoch 8/10\n",
      "15/15 [==============================] - 0s 3ms/step - loss: 0.0019 - val_loss: 0.0424\n",
      "Epoch 9/10\n",
      "15/15 [==============================] - 0s 3ms/step - loss: 0.0016 - val_loss: 0.0386\n",
      "Epoch 10/10\n",
      "15/15 [==============================] - 0s 3ms/step - loss: 0.0014 - val_loss: 0.0345\n"
     ]
    },
    {
     "data": {
      "text/plain": [
       "<keras.callbacks.History at 0x2306249fa60>"
      ]
     },
     "execution_count": 18,
     "metadata": {},
     "output_type": "execute_result"
    }
   ],
   "source": [
    "#create Sequential object\n",
    "import tensorflow as tf\n",
    "from keras.models import Sequential\n",
    "from keras.layers import Dense\n",
    "model = tf.keras.Sequential()\n",
    "#add first dense layer with input_dim as 3\n",
    "model.add(tf.keras.layers.Dense(32, input_dim=3, activation='relu'))\n",
    "#add second dense layer\n",
    "model.add(tf.keras.layers.Dense(10, activation='relu'))\n",
    "#add third dense layer\n",
    "model.add(tf.keras.layers.Dense(1, activation='linear'))\n",
    "#compile the model\n",
    "model.compile(optimizer='adam', loss='mean_squared_error')\n",
    "\n",
    "#fit the model (X_train, Y_train, batch_size = 128, epochs = 10, validation_split=0.05)\n",
    "model.fit(X_train, Y_train, batch_size=128, epochs=10, validation_split=0.05)"
   ]
  },
  {
   "cell_type": "markdown",
   "metadata": {
    "id": "X3q7SQrlMdUY"
   },
   "source": [
    "Lets predict the testing data using the predict method."
   ]
  },
  {
   "cell_type": "code",
   "execution_count": 20,
   "metadata": {
    "colab": {
     "base_uri": "https://localhost:8080/"
    },
    "executionInfo": {
     "elapsed": 10,
     "status": "ok",
     "timestamp": 1642627668722,
     "user": {
      "displayName": "Simran Surve",
      "photoUrl": "https://lh3.googleusercontent.com/a-/AOh14Gik7iyGSKoZ5so9XipsZPApGM6kN-LWjBQUkZ8W9w=s64",
      "userId": "08759634073497249150"
     },
     "user_tz": 480
    },
    "id": "euFbspCkTiaa",
    "outputId": "bef1ffe4-d1a1-47de-b37e-c1801cec953c"
   },
   "outputs": [
    {
     "name": "stdout",
     "output_type": "stream",
     "text": [
      "16/16 [==============================] - 0s 1ms/step\n",
      "[[0.88853467]\n",
      " [0.90434414]\n",
      " [0.8918878 ]\n",
      " [0.8842222 ]\n",
      " [0.8763156 ]\n",
      " [0.8794295 ]\n",
      " [0.8873339 ]\n",
      " [0.9249454 ]\n",
      " [0.9297407 ]\n",
      " [0.9120137 ]]\n"
     ]
    }
   ],
   "source": [
    "#predict X_test\n",
    "predictions = model.predict(X_test)\n",
    "\n",
    "#print last 10 values of predictions\n",
    "print(predictions[0:10])"
   ]
  },
  {
   "cell_type": "markdown",
   "metadata": {
    "id": "s1ZJiUg6M8HZ"
   },
   "source": [
    "Check the training and testing score uisng the mean squared error. Use the evaluate function by passing the X_train, Y_train and then apply the sqrt function of math library to get the MSE and RMSE. Do the same for testing data."
   ]
  },
  {
   "cell_type": "code",
   "execution_count": 21,
   "metadata": {
    "colab": {
     "base_uri": "https://localhost:8080/"
    },
    "executionInfo": {
     "elapsed": 863,
     "status": "ok",
     "timestamp": 1642627669578,
     "user": {
      "displayName": "Simran Surve",
      "photoUrl": "https://lh3.googleusercontent.com/a-/AOh14Gik7iyGSKoZ5so9XipsZPApGM6kN-LWjBQUkZ8W9w=s64",
      "userId": "08759634073497249150"
     },
     "user_tz": 480
    },
    "id": "NVREtyXrTl7B",
    "outputId": "1924553d-e7ed-425e-e048-cd7bee4d1f06"
   },
   "outputs": [
    {
     "name": "stdout",
     "output_type": "stream",
     "text": [
      "62/62 [==============================] - 0s 1ms/step - loss: 0.0029\n",
      "Training MSE: 0.0029346891678869724\n",
      "Training RMSE: 0.05417277146211898\n",
      "16/16 [==============================] - 0s 2ms/step - loss: 0.8052\n",
      "Testing MSE: 0.8052245378494263\n",
      "Testing RMSE: 0.8973430435733183\n"
     ]
    }
   ],
   "source": [
    "#evaluate training data\n",
    "train_loss = model.evaluate(X_train, Y_train, return_dict=True)\n",
    "#print MSE and RMSE\n",
    "print(\"Training MSE:\", train_loss['loss'])\n",
    "print(\"Training RMSE:\", np.sqrt(train_loss['loss']))\n",
    "#evaluate testing data\n",
    "test_loss = model.evaluate(X_test, Y_test, return_dict=True)\n",
    "#print MSE and RMSE\n",
    "print(\"Testing MSE:\", test_loss['loss'])\n",
    "print(\"Testing RMSE:\", np.sqrt(test_loss['loss']))"
   ]
  },
  {
   "cell_type": "markdown",
   "metadata": {
    "id": "56ZxFRetOfmF"
   },
   "source": [
    "The overall score is good.\n",
    "### Well done!!!\n",
    "\n",
    "Now plot the predictions and Y_test using tthe matplotlib library."
   ]
  },
  {
   "cell_type": "code",
   "execution_count": 24,
   "metadata": {
    "colab": {
     "base_uri": "https://localhost:8080/",
     "height": 516
    },
    "executionInfo": {
     "elapsed": 803,
     "status": "ok",
     "timestamp": 1642628050070,
     "user": {
      "displayName": "Simran Surve",
      "photoUrl": "https://lh3.googleusercontent.com/a-/AOh14Gik7iyGSKoZ5so9XipsZPApGM6kN-LWjBQUkZ8W9w=s64",
      "userId": "08759634073497249150"
     },
     "user_tz": 480
    },
    "id": "lyD9d1fOTnyQ",
    "outputId": "80e9ed45-978a-4023-8eeb-622da6854033"
   },
   "outputs": [
    {
     "name": "stderr",
     "output_type": "stream",
     "text": [
      "No artists with labels found to put in legend.  Note that artists whose label start with an underscore are ignored when legend() is called with no argument.\n"
     ]
    },
    {
     "data": {
      "image/png": "[encoded data removed]",
      "text/plain": [
       "<Figure size 432x288 with 1 Axes>"
      ]
     },
     "metadata": {
      "needs_background": "light"
     },
     "output_type": "display_data"
    },
    {
     "name": "stderr",
     "output_type": "stream",
     "text": [
      "No artists with labels found to put in legend.  Note that artists whose label start with an underscore are ignored when legend() is called with no argument.\n"
     ]
    },
    {
     "data": {
      "image/png": "[encoded data removed]",
      "text/plain": [
       "<Figure size 432x288 with 1 Axes>"
      ]
     },
     "metadata": {
      "needs_background": "light"
     },
     "output_type": "display_data"
    }
   ],
   "source": [
    "#plot predictions\n",
    "import matplotlib.pyplot as plt\n",
    "plt.plot(predictions, color = 'red')\n",
    "#set legend as upper left\n",
    "plt.legend(loc='upper left')\n",
    "plt.title('Prediction from trained model')\n",
    "plt.show()\n",
    "#plot Y_test\n",
    "plt.plot(Y_test)\n",
    "#set legend as upper left\n",
    "plt.legend(loc='upper left')\n",
    "plt.title('Read values from the stock')\n",
    "plt.show()"
   ]
  },
  {
   "cell_type": "markdown",
   "metadata": {
    "id": "iljMHZS3RJTB"
   },
   "source": [
    "Congratulations!!! You've done it. \n",
    "\n",
    "In this assignment you learned:\n",
    "\n",
    "* Artificial Neural Networks\n",
    "* Forecasting time series with ANNs\n",
    "\n",
    "\n",
    "Keep practising until next assignment comes in. <br><br> \n",
    "\n",
    "## Do fill the feedback form given below:\n",
    "[Feedback form](https://forms.zohopublic.in/cloudyml/form/CloudyMLDeepLearningFeedbackForm/formperma/VCFbldnXAnbcgAIl0lWv2blgHdSldheO4RfktMdgK7)\n",
    "<br><br> \n",
    "\n",
    "\n",
    "![](data:image/jpeg;base64,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)"
   ]
  }
 ],
 "metadata": {
  "colab": {
   "collapsed_sections": [],
   "name": "ANN for time series forecasting (Stock prices prediction)_withoutcode.ipynb",
   "provenance": [
    {
     "file_id": "1wmSjk6nof-wpnicv2aZjWUuuvuyxve7X",
     "timestamp": 1642938949883
    }
   ]
  },
  "kernelspec": {
   "display_name": "Python 3 (ipykernel)",
   "language": "python",
   "name": "python3"
  },
  "language_info": {
   "codemirror_mode": {
    "name": "ipython",
    "version": 3
   },
   "file_extension": ".py",
   "mimetype": "text/x-python",
   "name": "python",
   "nbconvert_exporter": "python",
   "pygments_lexer": "ipython3",
   "version": "3.9.12"
  }
 },
 "nbformat": 4,
 "nbformat_minor": 1
}
